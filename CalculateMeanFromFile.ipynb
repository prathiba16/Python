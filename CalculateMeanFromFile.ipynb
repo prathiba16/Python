{
 "cells": [
  {
   "cell_type": "code",
   "execution_count": 6,
   "metadata": {},
   "outputs": [
    {
     "name": "stdout",
     "output_type": "stream",
     "text": [
      "hello\n",
      "Enter Number of samples : 100\n",
      "Enter Number of values in a sample : 40\n",
      "Mean of Movie Ratings :  6.74\n"
     ]
    }
   ],
   "source": [
    "import pandas\n",
    "import random\n",
    "\n",
    "fileData=pandas.read_csv(\"C:\\\\Users\\\\rohit.chouhan\\\\Downloads\\\\Term-1-master\\\\Term-1-master\\\\Data\\\\Projects\\\\1000 movies data.csv\")\n",
    "ratingList=list(fileData.Rating)\n",
    "\n",
    "countOfSampleSet=input(\"Enter Number of samples : \")\n",
    "countOfSample=input(\"Enter Number of values in a sample : \")\n",
    "sampleList=list()\n",
    "sampleSetList=list()\n",
    "\n",
    "for j in range(int(countOfSampleSet)):\n",
    "    for i in range(int(countOfSample)):\n",
    "        sampleList.append(random.choice(ratingList))\n",
    "    sampleMean=sum(sampleList)/len(sampleList)\n",
    "    sampleList.clear()\n",
    "    #print(sampleMean)\n",
    "    sampleSetList.append(round(sampleMean,2))\n",
    "#print(sampleSetList)\n",
    "   \n",
    "#print(len(sampleList))\n",
    "Mean=round(sum(sampleSetList)/len(sampleSetList),2)\n",
    "print(\"Mean of Movie Ratings : \",Mean)\n"
   ]
  }
 ],
 "metadata": {
  "kernelspec": {
   "display_name": "Python 3",
   "language": "python",
   "name": "python3"
  },
  "language_info": {
   "codemirror_mode": {
    "name": "ipython",
    "version": 3
   },
   "file_extension": ".py",
   "mimetype": "text/x-python",
   "name": "python",
   "nbconvert_exporter": "python",
   "pygments_lexer": "ipython3",
   "version": "3.7.1"
  }
 },
 "nbformat": 4,
 "nbformat_minor": 2
}
